{
 "cells": [
  {
   "cell_type": "markdown",
   "metadata": {},
   "source": [
    "#### No6 (3 балла)\n",
    "Различные метрики качества реализованы в пакете sklearn.metrics. Подробнее о них\n",
    "смотрите в лекции или в учебных пособиях, например, https://github.com/esokolov/ml-course-msu/blob/master/ML15/lecture-notes/Sem05_metrics.pdf."
   ]
  },
  {
   "cell_type": "markdown",
   "metadata": {},
   "source": [
    "1) Загрузите файл classification.csv (https://cloud.mail.ru/public/QGde/JFrAntvih). В нем\n",
    "записаны истинные классы объектов выборки (колонка true) и ответы некоторого\n",
    "классификатора (колонка predicted)."
   ]
  },
  {
   "cell_type": "code",
   "execution_count": 1,
   "metadata": {},
   "outputs": [],
   "source": [
    "import pandas as pd\n",
    "from sklearn.metrics import confusion_matrix\n"
   ]
  },
  {
   "cell_type": "code",
   "execution_count": 2,
   "metadata": {},
   "outputs": [
    {
     "data": {
      "text/html": [
       "<div>\n",
       "<style scoped>\n",
       "    .dataframe tbody tr th:only-of-type {\n",
       "        vertical-align: middle;\n",
       "    }\n",
       "\n",
       "    .dataframe tbody tr th {\n",
       "        vertical-align: top;\n",
       "    }\n",
       "\n",
       "    .dataframe thead th {\n",
       "        text-align: right;\n",
       "    }\n",
       "</style>\n",
       "<table border=\"1\" class=\"dataframe\">\n",
       "  <thead>\n",
       "    <tr style=\"text-align: right;\">\n",
       "      <th></th>\n",
       "      <th>true</th>\n",
       "      <th>pred</th>\n",
       "    </tr>\n",
       "  </thead>\n",
       "  <tbody>\n",
       "    <tr>\n",
       "      <th>0</th>\n",
       "      <td>1</td>\n",
       "      <td>0</td>\n",
       "    </tr>\n",
       "    <tr>\n",
       "      <th>1</th>\n",
       "      <td>1</td>\n",
       "      <td>1</td>\n",
       "    </tr>\n",
       "    <tr>\n",
       "      <th>2</th>\n",
       "      <td>1</td>\n",
       "      <td>1</td>\n",
       "    </tr>\n",
       "    <tr>\n",
       "      <th>3</th>\n",
       "      <td>0</td>\n",
       "      <td>0</td>\n",
       "    </tr>\n",
       "    <tr>\n",
       "      <th>4</th>\n",
       "      <td>1</td>\n",
       "      <td>1</td>\n",
       "    </tr>\n",
       "  </tbody>\n",
       "</table>\n",
       "</div>"
      ],
      "text/plain": [
       "   true  pred\n",
       "0     1     0\n",
       "1     1     1\n",
       "2     1     1\n",
       "3     0     0\n",
       "4     1     1"
      ]
     },
     "execution_count": 2,
     "metadata": {},
     "output_type": "execute_result"
    }
   ],
   "source": [
    "df = pd.read_csv(\"csv/classification.csv\")\n",
    "df.head()\n"
   ]
  },
  {
   "cell_type": "markdown",
   "metadata": {},
   "source": [
    "2. Заполните таблицу ошибок классификации\n",
    "\n",
    "Для этого подсчитайте величины TP, FP, FN и TN согласно их определениям.\n",
    "Например, FP — это количество объектов, имеющих класс 0, но отнесенных\n",
    "алгоритмом к классу 1."
   ]
  },
  {
   "cell_type": "code",
   "execution_count": 3,
   "metadata": {},
   "outputs": [
    {
     "name": "stdout",
     "output_type": "stream",
     "text": [
      "tp = 43\n",
      "fp = 34\n",
      "fn = 59\n",
      "tn = 64\n"
     ]
    }
   ],
   "source": [
    "tp = df[(df[\"true\"] == 1) & (df[\"pred\"] == 1)].shape[0]\n",
    "fp = df[(df[\"true\"] == 0) & (df[\"pred\"] == 1)].shape[0]\n",
    "fn = df[(df[\"true\"] == 1) & (df[\"pred\"] == 0)].shape[0]\n",
    "tn = df[(df[\"true\"] == 0) & (df[\"pred\"] == 0)].shape[0]\n",
    "\n",
    "print(f\"{tp = }\\n{fp = }\\n{fn = }\\n{tn = }\")\n"
   ]
  },
  {
   "cell_type": "markdown",
   "metadata": {},
   "source": [
    "3) Посчитайте основные метрики качества классификатора: \n",
    "- a. Accuracy (доля верно угаданных) — sklearn.metrics.accuracy\n",
    "\n",
    "- b. Precision (точность) — sklearn.metrics.accuracy.precision_score\n",
    "\n",
    "- c. Recall (полнота) — sklearn.metrics.recall_score\n",
    "\n",
    "- d. F-мера — sklearn.metrics.f1_score"
   ]
  },
  {
   "cell_type": "code",
   "execution_count": 4,
   "metadata": {},
   "outputs": [],
   "source": [
    "from sklearn.metrics import accuracy_score\n",
    "from sklearn.metrics import precision_score\n",
    "from sklearn.metrics import recall_score\n",
    "from sklearn.metrics import f1_score\n"
   ]
  },
  {
   "cell_type": "code",
   "execution_count": 5,
   "metadata": {},
   "outputs": [
    {
     "name": "stdout",
     "output_type": "stream",
     "text": [
      "Accuracy: 0.535\n",
      "Precision: 0.5584415584415584\n",
      "Recall: 0.4215686274509804\n",
      "F-мера: 0.48044692737430167\n"
     ]
    }
   ],
   "source": [
    "df_t = df[\"true\"]\n",
    "df_p = df[\"pred\"]\n",
    "\n",
    "print(f\"Accuracy: {accuracy_score(df_t, df_p)}\")\n",
    "print(f\"Precision: {precision_score(df_t, df_p)}\")\n",
    "print(f\"Recall: {recall_score(df_t, df_p)}\")\n",
    "print(f\"F-мера: {f1_score(df_t, df_p)}\")\n"
   ]
  }
 ],
 "metadata": {
  "kernelspec": {
   "display_name": "Python 3.10.4 64-bit",
   "language": "python",
   "name": "python3"
  },
  "language_info": {
   "codemirror_mode": {
    "name": "ipython",
    "version": 3
   },
   "file_extension": ".py",
   "mimetype": "text/x-python",
   "name": "python",
   "nbconvert_exporter": "python",
   "pygments_lexer": "ipython3",
   "version": "3.10.4"
  },
  "orig_nbformat": 4,
  "vscode": {
   "interpreter": {
    "hash": "cd87b9a6d982cfc45c3963b1a7c0419560246e78f9aeb0d449ae0a5a3a4ad62c"
   }
  }
 },
 "nbformat": 4,
 "nbformat_minor": 2
}
